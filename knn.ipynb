{
  "nbformat": 4,
  "nbformat_minor": 0,
  "metadata": {
    "colab": {
      "provenance": []
    },
    "kernelspec": {
      "name": "python3",
      "display_name": "Python 3"
    },
    "language_info": {
      "name": "python"
    }
  },
  "cells": [
    {
      "cell_type": "markdown",
      "source": [
        "Importing the libraries"
      ],
      "metadata": {
        "id": "-tO_nZFk8O3i"
      }
    },
    {
      "cell_type": "code",
      "execution_count": 1,
      "metadata": {
        "id": "mvcPze1z29lp"
      },
      "outputs": [],
      "source": [
        "import numpy as np\n",
        "import matplotlib.pyplot as plt\n",
        "import pandas as pd"
      ]
    },
    {
      "cell_type": "markdown",
      "source": [
        "Importing the dataset"
      ],
      "metadata": {
        "id": "uhnsk0l_8boO"
      }
    },
    {
      "cell_type": "code",
      "source": [
        "dataset = pd.read_csv('diabetes.csv')\n"
      ],
      "metadata": {
        "id": "xj2grH678hEO"
      },
      "execution_count": 2,
      "outputs": []
    },
    {
      "cell_type": "code",
      "source": [
        "dataset.head()"
      ],
      "metadata": {
        "colab": {
          "base_uri": "https://localhost:8080/",
          "height": 206
        },
        "id": "DFyh002V9Wy9",
        "outputId": "d1acd1cc-f40b-4c29-f972-6fa9dbf59ef7"
      },
      "execution_count": 3,
      "outputs": [
        {
          "output_type": "execute_result",
          "data": {
            "text/plain": [
              "   Pregnancies  Glucose  BloodPressure  SkinThickness  Insulin   BMI  \\\n",
              "0            6      148             72             35        0  33.6   \n",
              "1            1       85             66             29        0  26.6   \n",
              "2            8      183             64              0        0  23.3   \n",
              "3            1       89             66             23       94  28.1   \n",
              "4            0      137             40             35      168  43.1   \n",
              "\n",
              "   DiabetesPedigreeFunction  Age  Outcome  \n",
              "0                     0.627   50        1  \n",
              "1                     0.351   31        0  \n",
              "2                     0.672   32        1  \n",
              "3                     0.167   21        0  \n",
              "4                     2.288   33        1  "
            ],
            "text/html": [
              "\n",
              "  <div id=\"df-f36bf71b-ee32-4a92-bb76-401ed05002a4\">\n",
              "    <div class=\"colab-df-container\">\n",
              "      <div>\n",
              "<style scoped>\n",
              "    .dataframe tbody tr th:only-of-type {\n",
              "        vertical-align: middle;\n",
              "    }\n",
              "\n",
              "    .dataframe tbody tr th {\n",
              "        vertical-align: top;\n",
              "    }\n",
              "\n",
              "    .dataframe thead th {\n",
              "        text-align: right;\n",
              "    }\n",
              "</style>\n",
              "<table border=\"1\" class=\"dataframe\">\n",
              "  <thead>\n",
              "    <tr style=\"text-align: right;\">\n",
              "      <th></th>\n",
              "      <th>Pregnancies</th>\n",
              "      <th>Glucose</th>\n",
              "      <th>BloodPressure</th>\n",
              "      <th>SkinThickness</th>\n",
              "      <th>Insulin</th>\n",
              "      <th>BMI</th>\n",
              "      <th>DiabetesPedigreeFunction</th>\n",
              "      <th>Age</th>\n",
              "      <th>Outcome</th>\n",
              "    </tr>\n",
              "  </thead>\n",
              "  <tbody>\n",
              "    <tr>\n",
              "      <th>0</th>\n",
              "      <td>6</td>\n",
              "      <td>148</td>\n",
              "      <td>72</td>\n",
              "      <td>35</td>\n",
              "      <td>0</td>\n",
              "      <td>33.6</td>\n",
              "      <td>0.627</td>\n",
              "      <td>50</td>\n",
              "      <td>1</td>\n",
              "    </tr>\n",
              "    <tr>\n",
              "      <th>1</th>\n",
              "      <td>1</td>\n",
              "      <td>85</td>\n",
              "      <td>66</td>\n",
              "      <td>29</td>\n",
              "      <td>0</td>\n",
              "      <td>26.6</td>\n",
              "      <td>0.351</td>\n",
              "      <td>31</td>\n",
              "      <td>0</td>\n",
              "    </tr>\n",
              "    <tr>\n",
              "      <th>2</th>\n",
              "      <td>8</td>\n",
              "      <td>183</td>\n",
              "      <td>64</td>\n",
              "      <td>0</td>\n",
              "      <td>0</td>\n",
              "      <td>23.3</td>\n",
              "      <td>0.672</td>\n",
              "      <td>32</td>\n",
              "      <td>1</td>\n",
              "    </tr>\n",
              "    <tr>\n",
              "      <th>3</th>\n",
              "      <td>1</td>\n",
              "      <td>89</td>\n",
              "      <td>66</td>\n",
              "      <td>23</td>\n",
              "      <td>94</td>\n",
              "      <td>28.1</td>\n",
              "      <td>0.167</td>\n",
              "      <td>21</td>\n",
              "      <td>0</td>\n",
              "    </tr>\n",
              "    <tr>\n",
              "      <th>4</th>\n",
              "      <td>0</td>\n",
              "      <td>137</td>\n",
              "      <td>40</td>\n",
              "      <td>35</td>\n",
              "      <td>168</td>\n",
              "      <td>43.1</td>\n",
              "      <td>2.288</td>\n",
              "      <td>33</td>\n",
              "      <td>1</td>\n",
              "    </tr>\n",
              "  </tbody>\n",
              "</table>\n",
              "</div>\n",
              "      <button class=\"colab-df-convert\" onclick=\"convertToInteractive('df-f36bf71b-ee32-4a92-bb76-401ed05002a4')\"\n",
              "              title=\"Convert this dataframe to an interactive table.\"\n",
              "              style=\"display:none;\">\n",
              "        \n",
              "  <svg xmlns=\"http://www.w3.org/2000/svg\" height=\"24px\"viewBox=\"0 0 24 24\"\n",
              "       width=\"24px\">\n",
              "    <path d=\"M0 0h24v24H0V0z\" fill=\"none\"/>\n",
              "    <path d=\"M18.56 5.44l.94 2.06.94-2.06 2.06-.94-2.06-.94-.94-2.06-.94 2.06-2.06.94zm-11 1L8.5 8.5l.94-2.06 2.06-.94-2.06-.94L8.5 2.5l-.94 2.06-2.06.94zm10 10l.94 2.06.94-2.06 2.06-.94-2.06-.94-.94-2.06-.94 2.06-2.06.94z\"/><path d=\"M17.41 7.96l-1.37-1.37c-.4-.4-.92-.59-1.43-.59-.52 0-1.04.2-1.43.59L10.3 9.45l-7.72 7.72c-.78.78-.78 2.05 0 2.83L4 21.41c.39.39.9.59 1.41.59.51 0 1.02-.2 1.41-.59l7.78-7.78 2.81-2.81c.8-.78.8-2.07 0-2.86zM5.41 20L4 18.59l7.72-7.72 1.47 1.35L5.41 20z\"/>\n",
              "  </svg>\n",
              "      </button>\n",
              "      \n",
              "  <style>\n",
              "    .colab-df-container {\n",
              "      display:flex;\n",
              "      flex-wrap:wrap;\n",
              "      gap: 12px;\n",
              "    }\n",
              "\n",
              "    .colab-df-convert {\n",
              "      background-color: #E8F0FE;\n",
              "      border: none;\n",
              "      border-radius: 50%;\n",
              "      cursor: pointer;\n",
              "      display: none;\n",
              "      fill: #1967D2;\n",
              "      height: 32px;\n",
              "      padding: 0 0 0 0;\n",
              "      width: 32px;\n",
              "    }\n",
              "\n",
              "    .colab-df-convert:hover {\n",
              "      background-color: #E2EBFA;\n",
              "      box-shadow: 0px 1px 2px rgba(60, 64, 67, 0.3), 0px 1px 3px 1px rgba(60, 64, 67, 0.15);\n",
              "      fill: #174EA6;\n",
              "    }\n",
              "\n",
              "    [theme=dark] .colab-df-convert {\n",
              "      background-color: #3B4455;\n",
              "      fill: #D2E3FC;\n",
              "    }\n",
              "\n",
              "    [theme=dark] .colab-df-convert:hover {\n",
              "      background-color: #434B5C;\n",
              "      box-shadow: 0px 1px 3px 1px rgba(0, 0, 0, 0.15);\n",
              "      filter: drop-shadow(0px 1px 2px rgba(0, 0, 0, 0.3));\n",
              "      fill: #FFFFFF;\n",
              "    }\n",
              "  </style>\n",
              "\n",
              "      <script>\n",
              "        const buttonEl =\n",
              "          document.querySelector('#df-f36bf71b-ee32-4a92-bb76-401ed05002a4 button.colab-df-convert');\n",
              "        buttonEl.style.display =\n",
              "          google.colab.kernel.accessAllowed ? 'block' : 'none';\n",
              "\n",
              "        async function convertToInteractive(key) {\n",
              "          const element = document.querySelector('#df-f36bf71b-ee32-4a92-bb76-401ed05002a4');\n",
              "          const dataTable =\n",
              "            await google.colab.kernel.invokeFunction('convertToInteractive',\n",
              "                                                     [key], {});\n",
              "          if (!dataTable) return;\n",
              "\n",
              "          const docLinkHtml = 'Like what you see? Visit the ' +\n",
              "            '<a target=\"_blank\" href=https://colab.research.google.com/notebooks/data_table.ipynb>data table notebook</a>'\n",
              "            + ' to learn more about interactive tables.';\n",
              "          element.innerHTML = '';\n",
              "          dataTable['output_type'] = 'display_data';\n",
              "          await google.colab.output.renderOutput(dataTable, element);\n",
              "          const docLink = document.createElement('div');\n",
              "          docLink.innerHTML = docLinkHtml;\n",
              "          element.appendChild(docLink);\n",
              "        }\n",
              "      </script>\n",
              "    </div>\n",
              "  </div>\n",
              "  "
            ]
          },
          "metadata": {},
          "execution_count": 3
        }
      ]
    },
    {
      "cell_type": "code",
      "source": [
        "x = dataset.iloc[:, [6,7]].values\n",
        "y = dataset.iloc[:, -1].values"
      ],
      "metadata": {
        "id": "NUOHLBjb9iXt"
      },
      "execution_count": 13,
      "outputs": []
    },
    {
      "cell_type": "code",
      "source": [
        "print(x)"
      ],
      "metadata": {
        "colab": {
          "base_uri": "https://localhost:8080/"
        },
        "id": "LhQoDhm19w1u",
        "outputId": "bbd32ab1-71e2-497c-ec16-46eabf483fd4"
      },
      "execution_count": 14,
      "outputs": [
        {
          "output_type": "stream",
          "name": "stdout",
          "text": [
            "[[ 0.627 50.   ]\n",
            " [ 0.351 31.   ]\n",
            " [ 0.672 32.   ]\n",
            " ...\n",
            " [ 0.245 30.   ]\n",
            " [ 0.349 47.   ]\n",
            " [ 0.315 23.   ]]\n"
          ]
        }
      ]
    },
    {
      "cell_type": "code",
      "source": [
        "print(y)"
      ],
      "metadata": {
        "colab": {
          "base_uri": "https://localhost:8080/"
        },
        "id": "IfWv_1u290me",
        "outputId": "1140e934-aa3f-4200-c51a-83dc79898092"
      },
      "execution_count": 6,
      "outputs": [
        {
          "output_type": "stream",
          "name": "stdout",
          "text": [
            "[1 0 1 0 1 0 1 0 1 1 0 1 0 1 1 1 1 1 0 1 0 0 1 1 1 1 1 0 0 0 0 1 0 0 0 0 0\n",
            " 1 1 1 0 0 0 1 0 1 0 0 1 0 0 0 0 1 0 0 1 0 0 0 0 1 0 0 1 0 1 0 0 0 1 0 1 0\n",
            " 0 0 0 0 1 0 0 0 0 0 1 0 0 0 1 0 0 0 0 1 0 0 0 0 0 1 1 0 0 0 0 0 0 0 0 1 1\n",
            " 1 0 0 1 1 1 0 0 0 1 0 0 0 1 1 0 0 1 1 1 1 1 0 0 0 0 0 0 0 0 0 0 1 0 0 0 0\n",
            " 0 0 0 0 1 0 1 1 0 0 0 1 0 0 0 0 1 1 0 0 0 0 1 1 0 0 0 1 0 1 0 1 0 0 0 0 0\n",
            " 1 1 1 1 1 0 0 1 1 0 1 0 1 1 1 0 0 0 0 0 0 1 1 0 1 0 0 0 1 1 1 1 0 1 1 1 1\n",
            " 0 0 0 0 0 1 0 0 1 1 0 0 0 1 1 1 1 0 0 0 1 1 0 1 0 0 0 0 0 0 0 0 1 1 0 0 0\n",
            " 1 0 1 0 0 1 0 1 0 0 1 1 0 0 0 0 0 1 0 0 0 1 0 0 1 1 0 0 1 0 0 0 1 1 1 0 0\n",
            " 1 0 1 0 1 1 0 1 0 0 1 0 1 1 0 0 1 0 1 0 0 1 0 1 0 1 1 1 0 0 1 0 1 0 0 0 1\n",
            " 0 0 0 0 1 1 1 0 0 0 0 0 0 0 0 0 1 0 0 0 0 0 1 1 1 0 1 1 0 0 1 0 0 1 0 0 1\n",
            " 1 0 0 0 0 1 0 0 1 0 0 0 0 0 0 0 1 1 1 0 0 1 0 0 1 0 0 1 0 1 1 0 1 0 1 0 1\n",
            " 0 1 1 0 0 0 0 1 1 0 1 0 1 0 0 0 0 1 1 0 1 0 1 0 0 0 0 0 1 0 0 0 0 1 0 0 1\n",
            " 1 1 0 0 1 0 0 1 0 0 0 1 0 0 1 0 0 0 0 0 0 0 0 0 1 0 0 0 0 0 0 0 1 0 0 0 1\n",
            " 0 0 0 1 1 0 0 0 0 0 0 0 1 0 0 0 0 1 0 0 0 1 0 0 0 1 0 0 0 1 0 0 0 0 1 1 0\n",
            " 0 0 0 0 0 1 0 0 0 0 0 0 0 0 0 0 0 1 0 0 0 1 1 1 1 0 0 1 1 0 0 0 0 0 0 0 0\n",
            " 0 0 0 0 0 1 1 0 0 0 0 0 0 0 1 0 0 0 0 0 0 0 1 0 1 1 0 0 0 1 0 1 0 1 0 1 0\n",
            " 1 0 0 1 0 0 1 0 0 0 0 1 1 0 1 0 0 0 0 1 1 0 1 0 0 0 1 1 0 0 0 0 0 0 0 0 0\n",
            " 0 1 0 0 0 0 1 0 0 1 0 0 0 1 0 0 0 1 1 1 0 0 0 0 0 0 1 0 0 0 1 0 1 1 1 1 0\n",
            " 1 1 0 0 0 0 0 0 0 1 1 0 1 0 0 1 0 1 0 0 0 0 0 1 0 1 0 1 0 1 1 0 0 0 0 1 1\n",
            " 0 0 0 1 0 1 1 0 0 1 0 0 1 1 0 0 1 0 0 1 0 0 0 0 0 0 0 1 1 1 0 0 0 0 0 0 1\n",
            " 1 0 0 1 0 0 1 0 1 1 1 0 0 1 1 1 0 1 0 1 0 1 0 0 0 0 1 0]\n"
          ]
        }
      ]
    },
    {
      "cell_type": "markdown",
      "source": [
        "Splitting the dataset into the Training set and Test set"
      ],
      "metadata": {
        "id": "OHsOpxpc-ccf"
      }
    },
    {
      "cell_type": "code",
      "source": [
        "from sklearn.model_selection import train_test_split\n",
        "x_train, x_test, y_train, y_test = train_test_split(x, y, test_size = 0.25, random_state = 0)"
      ],
      "metadata": {
        "id": "9F24J_KS-iMw"
      },
      "execution_count": 15,
      "outputs": []
    },
    {
      "cell_type": "code",
      "source": [
        "print(x_train)"
      ],
      "metadata": {
        "colab": {
          "base_uri": "https://localhost:8080/"
        },
        "id": "Rb9Vza-q_CVw",
        "outputId": "e878171b-17d8-4670-bac8-daeab01df6b7"
      },
      "execution_count": 16,
      "outputs": [
        {
          "output_type": "stream",
          "name": "stdout",
          "text": [
            "[[ 0.142 33.   ]\n",
            " [ 0.261 23.   ]\n",
            " [ 0.601 27.   ]\n",
            " ...\n",
            " [ 0.148 21.   ]\n",
            " [ 0.3   35.   ]\n",
            " [ 0.64  69.   ]]\n"
          ]
        }
      ]
    },
    {
      "cell_type": "code",
      "source": [
        "len(x_train)"
      ],
      "metadata": {
        "colab": {
          "base_uri": "https://localhost:8080/"
        },
        "id": "af0YyaRf_Ip9",
        "outputId": "464156da-a9b8-4ab5-87ad-79cabfdb360e"
      },
      "execution_count": 17,
      "outputs": [
        {
          "output_type": "execute_result",
          "data": {
            "text/plain": [
              "576"
            ]
          },
          "metadata": {},
          "execution_count": 17
        }
      ]
    },
    {
      "cell_type": "code",
      "source": [
        "len(x)"
      ],
      "metadata": {
        "colab": {
          "base_uri": "https://localhost:8080/"
        },
        "id": "PkkxGjSo_OgT",
        "outputId": "6e89a70a-27cf-4f30-9049-9cfff35acb1d"
      },
      "execution_count": 18,
      "outputs": [
        {
          "output_type": "execute_result",
          "data": {
            "text/plain": [
              "768"
            ]
          },
          "metadata": {},
          "execution_count": 18
        }
      ]
    },
    {
      "cell_type": "code",
      "source": [
        "len(x_test)"
      ],
      "metadata": {
        "colab": {
          "base_uri": "https://localhost:8080/"
        },
        "id": "yHXq8qUb_Sro",
        "outputId": "1701b2c5-4fb8-4531-ba65-b5ded43dd2e1"
      },
      "execution_count": 20,
      "outputs": [
        {
          "output_type": "execute_result",
          "data": {
            "text/plain": [
              "192"
            ]
          },
          "metadata": {},
          "execution_count": 20
        }
      ]
    },
    {
      "cell_type": "code",
      "source": [
        "len(y)"
      ],
      "metadata": {
        "colab": {
          "base_uri": "https://localhost:8080/"
        },
        "id": "vmmOMBgh_dtJ",
        "outputId": "c4fe23fb-c743-4260-8e54-ac3532910b86"
      },
      "execution_count": 21,
      "outputs": [
        {
          "output_type": "execute_result",
          "data": {
            "text/plain": [
              "768"
            ]
          },
          "metadata": {},
          "execution_count": 21
        }
      ]
    },
    {
      "cell_type": "code",
      "source": [
        "len(y_test)"
      ],
      "metadata": {
        "colab": {
          "base_uri": "https://localhost:8080/"
        },
        "id": "9pNOm4oF_gej",
        "outputId": "038e3f2b-7482-46b2-db50-1e9428299979"
      },
      "execution_count": 22,
      "outputs": [
        {
          "output_type": "execute_result",
          "data": {
            "text/plain": [
              "192"
            ]
          },
          "metadata": {},
          "execution_count": 22
        }
      ]
    },
    {
      "cell_type": "code",
      "source": [
        "len(y_train)"
      ],
      "metadata": {
        "colab": {
          "base_uri": "https://localhost:8080/"
        },
        "id": "w8iZfRNl_nO1",
        "outputId": "67d64e61-192d-40ca-e34f-9a338eb11115"
      },
      "execution_count": 23,
      "outputs": [
        {
          "output_type": "execute_result",
          "data": {
            "text/plain": [
              "576"
            ]
          },
          "metadata": {},
          "execution_count": 23
        }
      ]
    },
    {
      "cell_type": "markdown",
      "source": [
        "Feature Scaling"
      ],
      "metadata": {
        "id": "ZTjP0S-4ADP8"
      }
    },
    {
      "cell_type": "code",
      "source": [
        "from sklearn.preprocessing import StandardScaler\n",
        "sc = StandardScaler()\n",
        "x_train = sc.fit_transform(x_train)\n",
        "x_test = sc.transform(x_test)"
      ],
      "metadata": {
        "id": "DqSIxayAAHCa"
      },
      "execution_count": 24,
      "outputs": []
    },
    {
      "cell_type": "code",
      "source": [
        "print(x_train)"
      ],
      "metadata": {
        "colab": {
          "base_uri": "https://localhost:8080/"
        },
        "id": "mTk_NSPCAkJc",
        "outputId": "dcae59ad-cead-4f4e-9f9b-f25c02eaca61"
      },
      "execution_count": 25,
      "outputs": [
        {
          "output_type": "stream",
          "name": "stdout",
          "text": [
            "[[-0.98325882 -0.04863985]\n",
            " [-0.62493647 -0.88246592]\n",
            " [ 0.39884168 -0.5489355 ]\n",
            " ...\n",
            " [-0.96519215 -1.04923114]\n",
            " [-0.5075031   0.11812536]\n",
            " [ 0.51627505  2.953134  ]]\n"
          ]
        }
      ]
    },
    {
      "cell_type": "code",
      "source": [
        "print(x_test)"
      ],
      "metadata": {
        "colab": {
          "base_uri": "https://localhost:8080/"
        },
        "id": "iAJW0fcrAq9P",
        "outputId": "8725a179-8fba-48fb-ac6b-66b63deab93e"
      },
      "execution_count": 26,
      "outputs": [
        {
          "output_type": "stream",
          "name": "stdout",
          "text": [
            "[[ 2.78665365 -0.96584853]\n",
            " [-0.19434743 -0.88246592]\n",
            " [-0.23349189 -0.71570071]\n",
            " [ 0.3566861   1.45224707]\n",
            " [ 0.5764973  -0.21540507]\n",
            " [-0.558692   -0.79908332]\n",
            " [ 1.27808644 -0.04863985]\n",
            " [ 2.06398672  1.53562968]\n",
            " [ 3.40694276 -0.71570071]\n",
            " [-0.4352364   1.7857775 ]\n",
            " [ 1.15161972 -0.46555289]\n",
            " [ 1.70265326  1.61901229]\n",
            " [ 0.82943072  1.95254271]\n",
            " [ 3.70504287 -0.71570071]\n",
            " [ 0.39583056  0.70180361]\n",
            " [ 0.95890854 -0.13202246]\n",
            " [ 0.75415291  0.20150797]\n",
            " [-0.66408093 -1.04923114]\n",
            " [-0.14918074  2.45283836]\n",
            " [ 0.09170823 -0.29878768]\n",
            " [ 0.2573194   0.28489057]\n",
            " [ 0.675864   -1.04923114]\n",
            " [ 0.91675297 -0.71570071]\n",
            " [-0.67913649  1.03533404]\n",
            " [ 0.05557489 -0.96584853]\n",
            " [ 0.13687491 -1.04923114]\n",
            " [ 0.34163054 -0.5489355 ]\n",
            " [ 2.12420896  0.45165579]\n",
            " [-0.48642531 -0.79908332]\n",
            " [-0.53159199 -0.29878768]\n",
            " [ 0.53735284  1.45224707]\n",
            " [ 0.08267489 -1.04923114]\n",
            " [ 0.68188622 -0.5489355 ]\n",
            " [ 1.0462308  -0.46555289]\n",
            " [-0.79355875 -0.79908332]\n",
            " [-1.00433661  0.618421  ]\n",
            " [-0.62794758  0.70180361]\n",
            " [-0.46835864 -1.04923114]\n",
            " [-0.56772534 -0.71570071]\n",
            " [-0.59482535 -0.6323181 ]\n",
            " [ 0.77221959 -0.88246592]\n",
            " [ 0.27237496 -1.04923114]\n",
            " [ 0.08568601 -0.13202246]\n",
            " [-0.68515872 -0.71570071]\n",
            " [-0.93508103  1.61901229]\n",
            " [ 0.31151942 -1.04923114]\n",
            " [-1.02541439 -1.04923114]\n",
            " [-0.75140318 -0.46555289]\n",
            " [ 1.31421978 -0.6323181 ]\n",
            " [ 0.20311938 -0.5489355 ]\n",
            " [-0.67311427  0.20150797]\n",
            " [-0.45330308 -0.96584853]\n",
            " [ 0.8234085   0.36827318]\n",
            " [-0.23349189  0.45165579]\n",
            " [-0.26360301 -0.71570071]\n",
            " [-0.98928105 -0.96584853]\n",
            " [-0.35393637 -0.21540507]\n",
            " [-0.78151431 -0.46555289]\n",
            " [ 0.22118606 -0.88246592]\n",
            " [-0.62493647 -0.29878768]\n",
            " [-0.91400324  0.78518622]\n",
            " [-0.25155856 -0.29878768]\n",
            " [-0.79054764 -1.04923114]\n",
            " [ 1.39853092 -0.71570071]\n",
            " [-0.37200305 -0.38217028]\n",
            " [ 2.17539787  0.45165579]\n",
            " [-0.50148087  1.28548186]\n",
            " [-0.64601426  0.53503839]\n",
            " [-0.26661412  0.70180361]\n",
            " [-0.56772534  0.36827318]\n",
            " [-0.93508103 -1.04923114]\n",
            " [-0.78151431  0.28489057]\n",
            " [-0.69419205 -0.71570071]\n",
            " [ 2.98839816  0.95195143]\n",
            " [ 0.03148599 -0.6323181 ]\n",
            " [-0.65203648 -0.29878768]\n",
            " [-0.55266978  1.11871664]\n",
            " [ 1.11548638  0.45165579]\n",
            " [-0.45631419  0.03474275]\n",
            " [-0.7544143  -0.29878768]\n",
            " [-0.83872544  0.70180361]\n",
            " [-0.20940299 -0.79908332]\n",
            " [ 0.69091956 -0.5489355 ]\n",
            " [-0.51051421 -1.04923114]\n",
            " [-0.55568089 -0.46555289]\n",
            " [-0.69720316 -0.38217028]\n",
            " [-0.20036965 -0.96584853]\n",
            " [-0.85980322 -0.04863985]\n",
            " [ 0.35367499  1.45224707]\n",
            " [-0.36598082 -1.04923114]\n",
            " [-1.10972554 -0.29878768]\n",
            " [-0.55568089 -0.5489355 ]\n",
            " [ 0.47411948 -0.71570071]\n",
            " [ 0.06761933 -0.96584853]\n",
            " [-0.3840475   1.36886446]\n",
            " [-0.11605851 -0.96584853]\n",
            " [ 1.21184197 -0.13202246]\n",
            " [-0.59783646 -0.5489355 ]\n",
            " [ 2.7746092   1.86916011]\n",
            " [-0.27865857  1.03533404]\n",
            " [-0.90798102 -0.5489355 ]\n",
            " [ 0.50724171 -1.04923114]\n",
            " [-0.83571433 -0.29878768]\n",
            " [-0.40512528 -0.71570071]\n",
            " [ 1.90439777 -0.79908332]\n",
            " [ 1.46477539 -0.04863985]\n",
            " [ 0.13988603 -1.04923114]\n",
            " [-0.89894768 -0.96584853]\n",
            " [-0.55568089 -0.29878768]\n",
            " [ 0.61263064 -0.13202246]\n",
            " [ 0.89567519 -0.96584853]\n",
            " [-0.62794758  0.20150797]\n",
            " [-1.02240328  0.618421  ]\n",
            " [ 2.56684246 -0.04863985]\n",
            " [-0.63396981 -0.96584853]\n",
            " [-0.91400324  1.11871664]\n",
            " [ 1.24195309 -0.96584853]\n",
            " [ 0.56144173 -0.79908332]\n",
            " [-0.98024771 -0.88246592]\n",
            " [ 0.95288632  1.20209925]\n",
            " [-0.70021428  0.36827318]\n",
            " [-0.49244753  2.61960357]\n",
            " [-0.95916993 -0.46555289]\n",
            " [-0.6309587   2.36945575]\n",
            " [-0.63999203 -1.04923114]\n",
            " [-0.83571433 -0.71570071]\n",
            " [ 0.38980834 -0.46555289]\n",
            " [ 0.5764973   0.11812536]\n",
            " [ 0.65779732  2.36945575]\n",
            " [-0.42921418 -0.96584853]\n",
            " [-0.17326964 -0.6323181 ]\n",
            " [-0.49244753 -0.79908332]\n",
            " [-0.53761422 -0.71570071]\n",
            " [ 0.70296401 -0.46555289]\n",
            " [ 0.81136405  0.618421  ]\n",
            " [ 0.59155286  1.03533404]\n",
            " [-0.86582545 -0.38217028]\n",
            " [-0.37501416 -0.21540507]\n",
            " [ 0.88061963 -0.5489355 ]\n",
            " [-0.04078071 -0.5489355 ]\n",
            " [-0.91099213 -0.71570071]\n",
            " [-0.39308083  0.28489057]\n",
            " [-0.84775877 -1.04923114]\n",
            " [-0.23349189  0.618421  ]\n",
            " [-0.63396981  0.70180361]\n",
            " [ 0.24828607 -1.04923114]\n",
            " [-0.38103638 -0.29878768]\n",
            " [-0.46835864  0.618421  ]\n",
            " [ 1.8863311  -0.96584853]\n",
            " [ 0.73006402 -0.38217028]\n",
            " [-0.48943642 -0.46555289]\n",
            " [ 0.53133061 -0.96584853]\n",
            " [-1.08864775 -0.79908332]\n",
            " [ 1.06128636 -0.79908332]\n",
            " [ 0.67285289  1.70239489]\n",
            " [-0.07691405 -0.96584853]\n",
            " [-0.12509185 -0.88246592]\n",
            " [ 1.09741971 -0.88246592]\n",
            " [-0.85980322  0.36827318]\n",
            " [ 0.32958609  0.53503839]\n",
            " [-0.42921418  1.11871664]\n",
            " [-1.02240328  2.11930793]\n",
            " [-0.43824752 -0.96584853]\n",
            " [ 0.74813069 -0.96584853]\n",
            " [-0.80861432  0.28489057]\n",
            " [-0.98626994 -0.79908332]\n",
            " [-0.86883656  0.618421  ]\n",
            " [-0.37802527 -0.88246592]\n",
            " [-0.95615881 -0.79908332]\n",
            " [-0.81764765  1.03533404]\n",
            " [ 0.27237496 -1.04923114]\n",
            " [ 0.71199734  0.45165579]\n",
            " [-0.64601426 -0.21540507]\n",
            " [-0.52858088  0.70180361]\n",
            " [-0.80861432  2.45283836]\n",
            " [-0.06788072 -0.96584853]\n",
            " [ 0.04955266  1.95254271]\n",
            " [-0.94110325  0.11812536]\n",
            " [-1.05552552 -0.5489355 ]\n",
            " [-0.83270321 -1.04923114]\n",
            " [-0.86883656  0.20150797]\n",
            " [-0.63698092  0.86856882]\n",
            " [ 0.48315282 -0.79908332]\n",
            " [ 4.28919863 -0.71570071]\n",
            " [ 2.14829786 -0.96584853]\n",
            " [ 0.3566861   0.20150797]\n",
            " [-0.59783646 -0.6323181 ]\n",
            " [-0.30274747 -0.38217028]\n",
            " [-0.14014741 -0.71570071]\n",
            " [ 1.4406865  -1.04923114]\n",
            " [-0.60385869  1.7857775 ]\n",
            " [-0.63396981  0.28489057]]\n"
          ]
        }
      ]
    },
    {
      "cell_type": "markdown",
      "source": [
        "Training the K-NN model on the Training set"
      ],
      "metadata": {
        "id": "loiILSsuA0rz"
      }
    },
    {
      "cell_type": "code",
      "source": [
        "from sklearn.neighbors import KNeighborsClassifier\n",
        "classifier = KNeighborsClassifier(n_neighbors = 5, metric = 'minkowski', p = 2)\n",
        "classifier.fit(x_train, y_train)"
      ],
      "metadata": {
        "colab": {
          "base_uri": "https://localhost:8080/",
          "height": 74
        },
        "id": "kIaCMH4fA-6H",
        "outputId": "27ed4998-eb2d-4cbd-9afd-b9ac08073fe6"
      },
      "execution_count": 27,
      "outputs": [
        {
          "output_type": "execute_result",
          "data": {
            "text/plain": [
              "KNeighborsClassifier()"
            ],
            "text/html": [
              "<style>#sk-container-id-1 {color: black;background-color: white;}#sk-container-id-1 pre{padding: 0;}#sk-container-id-1 div.sk-toggleable {background-color: white;}#sk-container-id-1 label.sk-toggleable__label {cursor: pointer;display: block;width: 100%;margin-bottom: 0;padding: 0.3em;box-sizing: border-box;text-align: center;}#sk-container-id-1 label.sk-toggleable__label-arrow:before {content: \"▸\";float: left;margin-right: 0.25em;color: #696969;}#sk-container-id-1 label.sk-toggleable__label-arrow:hover:before {color: black;}#sk-container-id-1 div.sk-estimator:hover label.sk-toggleable__label-arrow:before {color: black;}#sk-container-id-1 div.sk-toggleable__content {max-height: 0;max-width: 0;overflow: hidden;text-align: left;background-color: #f0f8ff;}#sk-container-id-1 div.sk-toggleable__content pre {margin: 0.2em;color: black;border-radius: 0.25em;background-color: #f0f8ff;}#sk-container-id-1 input.sk-toggleable__control:checked~div.sk-toggleable__content {max-height: 200px;max-width: 100%;overflow: auto;}#sk-container-id-1 input.sk-toggleable__control:checked~label.sk-toggleable__label-arrow:before {content: \"▾\";}#sk-container-id-1 div.sk-estimator input.sk-toggleable__control:checked~label.sk-toggleable__label {background-color: #d4ebff;}#sk-container-id-1 div.sk-label input.sk-toggleable__control:checked~label.sk-toggleable__label {background-color: #d4ebff;}#sk-container-id-1 input.sk-hidden--visually {border: 0;clip: rect(1px 1px 1px 1px);clip: rect(1px, 1px, 1px, 1px);height: 1px;margin: -1px;overflow: hidden;padding: 0;position: absolute;width: 1px;}#sk-container-id-1 div.sk-estimator {font-family: monospace;background-color: #f0f8ff;border: 1px dotted black;border-radius: 0.25em;box-sizing: border-box;margin-bottom: 0.5em;}#sk-container-id-1 div.sk-estimator:hover {background-color: #d4ebff;}#sk-container-id-1 div.sk-parallel-item::after {content: \"\";width: 100%;border-bottom: 1px solid gray;flex-grow: 1;}#sk-container-id-1 div.sk-label:hover label.sk-toggleable__label {background-color: #d4ebff;}#sk-container-id-1 div.sk-serial::before {content: \"\";position: absolute;border-left: 1px solid gray;box-sizing: border-box;top: 0;bottom: 0;left: 50%;z-index: 0;}#sk-container-id-1 div.sk-serial {display: flex;flex-direction: column;align-items: center;background-color: white;padding-right: 0.2em;padding-left: 0.2em;position: relative;}#sk-container-id-1 div.sk-item {position: relative;z-index: 1;}#sk-container-id-1 div.sk-parallel {display: flex;align-items: stretch;justify-content: center;background-color: white;position: relative;}#sk-container-id-1 div.sk-item::before, #sk-container-id-1 div.sk-parallel-item::before {content: \"\";position: absolute;border-left: 1px solid gray;box-sizing: border-box;top: 0;bottom: 0;left: 50%;z-index: -1;}#sk-container-id-1 div.sk-parallel-item {display: flex;flex-direction: column;z-index: 1;position: relative;background-color: white;}#sk-container-id-1 div.sk-parallel-item:first-child::after {align-self: flex-end;width: 50%;}#sk-container-id-1 div.sk-parallel-item:last-child::after {align-self: flex-start;width: 50%;}#sk-container-id-1 div.sk-parallel-item:only-child::after {width: 0;}#sk-container-id-1 div.sk-dashed-wrapped {border: 1px dashed gray;margin: 0 0.4em 0.5em 0.4em;box-sizing: border-box;padding-bottom: 0.4em;background-color: white;}#sk-container-id-1 div.sk-label label {font-family: monospace;font-weight: bold;display: inline-block;line-height: 1.2em;}#sk-container-id-1 div.sk-label-container {text-align: center;}#sk-container-id-1 div.sk-container {/* jupyter's `normalize.less` sets `[hidden] { display: none; }` but bootstrap.min.css set `[hidden] { display: none !important; }` so we also need the `!important` here to be able to override the default hidden behavior on the sphinx rendered scikit-learn.org. See: https://github.com/scikit-learn/scikit-learn/issues/21755 */display: inline-block !important;position: relative;}#sk-container-id-1 div.sk-text-repr-fallback {display: none;}</style><div id=\"sk-container-id-1\" class=\"sk-top-container\"><div class=\"sk-text-repr-fallback\"><pre>KNeighborsClassifier()</pre><b>In a Jupyter environment, please rerun this cell to show the HTML representation or trust the notebook. <br />On GitHub, the HTML representation is unable to render, please try loading this page with nbviewer.org.</b></div><div class=\"sk-container\" hidden><div class=\"sk-item\"><div class=\"sk-estimator sk-toggleable\"><input class=\"sk-toggleable__control sk-hidden--visually\" id=\"sk-estimator-id-1\" type=\"checkbox\" checked><label for=\"sk-estimator-id-1\" class=\"sk-toggleable__label sk-toggleable__label-arrow\">KNeighborsClassifier</label><div class=\"sk-toggleable__content\"><pre>KNeighborsClassifier()</pre></div></div></div></div></div>"
            ]
          },
          "metadata": {},
          "execution_count": 27
        }
      ]
    },
    {
      "cell_type": "markdown",
      "source": [
        "Predicting the Test set results"
      ],
      "metadata": {
        "id": "curcpxWNCU0W"
      }
    },
    {
      "cell_type": "code",
      "source": [
        "y_pred = classifier.predict(x_test)"
      ],
      "metadata": {
        "id": "FNSP7QCQCTwl"
      },
      "execution_count": 28,
      "outputs": []
    },
    {
      "cell_type": "markdown",
      "source": [
        "Making the Confusion Matrix"
      ],
      "metadata": {
        "id": "3Q54xdfWCka5"
      }
    },
    {
      "cell_type": "code",
      "source": [
        "from sklearn.metrics import confusion_matrix\n",
        "cm = confusion_matrix(y_test, y_pred)\n",
        "print(cm)"
      ],
      "metadata": {
        "colab": {
          "base_uri": "https://localhost:8080/"
        },
        "id": "fdYGFIWBCOJT",
        "outputId": "47890a36-4629-4f97-db73-e302e17652f2"
      },
      "execution_count": 29,
      "outputs": [
        {
          "output_type": "stream",
          "name": "stdout",
          "text": [
            "[[93 37]\n",
            " [35 27]]\n"
          ]
        }
      ]
    },
    {
      "cell_type": "markdown",
      "source": [
        "Visualising the Training set results"
      ],
      "metadata": {
        "id": "X7UVp_HrDa3Y"
      }
    },
    {
      "cell_type": "code",
      "source": [
        "from matplotlib.colors import ListedColormap\n",
        "x_set, y_set = x_train, y_train\n",
        "x1, x2 = np.meshgrid(np.arange(start = x_set[:, 0].min() - 1, stop = x_set[:, 0].max() + 1, step = 0.01),\n",
        "                     np.arange(start = x_set[:, 1].min() - 1, stop = x_set[:, 1].max() + 1, step = 0.01))\n",
        "plt.contourf(x1, x2, classifier.predict(np.array([x1.ravel(), x2.ravel()]).T).reshape(x1.shape),\n",
        "             alpha = 0.75, cmap = ListedColormap(('red', 'green')))\n",
        "plt.xlim(x1.min(), x1.max())\n",
        "plt.ylim(x2.min(), x2.max())\n",
        "for i, j in enumerate(np.unique(y_set)):\n",
        "    plt.scatter(x_set[y_set == j, 0], x_set[y_set == j, 1],\n",
        "                c = ListedColormap(('red', 'green'))(i), label = j)\n",
        "plt.title('Klasfikas Data dengan K-NN (Data Training)')\n",
        "plt.xlabel('Diabetes Pedigree Function')\n",
        "plt.ylabel('Age')\n",
        "plt.legend()\n",
        "plt.show()"
      ],
      "metadata": {
        "colab": {
          "base_uri": "https://localhost:8080/",
          "height": 527
        },
        "id": "VXU_XqmjDgyP",
        "outputId": "ed3254a2-2cda-41f2-dcc3-00ad657ac1b3"
      },
      "execution_count": 32,
      "outputs": [
        {
          "output_type": "stream",
          "name": "stderr",
          "text": [
            "<ipython-input-32-bbd8b58760e3>:10: UserWarning: *c* argument looks like a single numeric RGB or RGBA sequence, which should be avoided as value-mapping will have precedence in case its length matches with *x* & *y*.  Please use the *color* keyword-argument or provide a 2D array with a single row if you intend to specify the same RGB or RGBA value for all points.\n",
            "  plt.scatter(x_set[y_set == j, 0], x_set[y_set == j, 1],\n"
          ]
        },
        {
          "output_type": "display_data",
          "data": {
            "text/plain": [
              "<Figure size 640x480 with 1 Axes>"
            ],
            "image/png": "[encoded data removed]"
          },
          "metadata": {}
        }
      ]
    },
    {
      "cell_type": "code",
      "source": [
        "from matplotlib.colors import ListedColormap\n",
        "x_set, y_set = x_test, y_test\n",
        "x1, x2 = np.meshgrid(np.arange(start = x_set[:, 0].min() - 1, stop = x_set[:, 0].max() + 1, step = 0.01),\n",
        "                     np.arange(start = x_set[:, 1].min() - 1, stop = x_set[:, 1].max() + 1, step = 0.01))\n",
        "plt.contourf(x1, x2, classifier.predict(np.array([x1.ravel(), x2.ravel()]).T).reshape(x1.shape),\n",
        "             alpha = 0.75, cmap = ListedColormap(('red', 'green')))\n",
        "plt.xlim(x1.min(), x1.max())\n",
        "plt.ylim(x2.min(), x2.max())\n",
        "for i, j in enumerate(np.unique(y_set)):\n",
        "    plt.scatter(x_set[y_set == j, 0], x_set[y_set == j, 1],\n",
        "                c = ListedColormap(('red', 'green'))(i), label = j)\n",
        "plt.title('Klasifikasi Data dengan K-NN (Data Testing)')\n",
        "plt.xlabel('Diabetes Pedigree Function')\n",
        "plt.ylabel('Age')\n",
        "plt.legend()\n",
        "plt.show()"
      ],
      "metadata": {
        "colab": {
          "base_uri": "https://localhost:8080/",
          "height": 527
        },
        "id": "wQsiydnrL-48",
        "outputId": "63b09d25-9255-477b-b09e-16d5f2e12c80"
      },
      "execution_count": 33,
      "outputs": [
        {
          "output_type": "stream",
          "name": "stderr",
          "text": [
            "<ipython-input-33-26d1d28da142>:10: UserWarning: *c* argument looks like a single numeric RGB or RGBA sequence, which should be avoided as value-mapping will have precedence in case its length matches with *x* & *y*.  Please use the *color* keyword-argument or provide a 2D array with a single row if you intend to specify the same RGB or RGBA value for all points.\n",
            "  plt.scatter(x_set[y_set == j, 0], x_set[y_set == j, 1],\n"
          ]
        },
        {
          "output_type": "display_data",
          "data": {
            "text/plain": [
              "<Figure size 640x480 with 1 Axes>"
            ],
            "image/png": "[encoded data removed]"
          },
          "metadata": {}
        }
      ]
    }
  ]
}